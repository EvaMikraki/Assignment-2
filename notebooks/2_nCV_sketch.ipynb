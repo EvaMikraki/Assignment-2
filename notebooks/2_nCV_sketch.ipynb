{
 "cells": [
  {
   "cell_type": "markdown",
   "id": "21aeb999",
   "metadata": {},
   "source": [
    "## Task 2 – Intuition & Preparation for the nCV implementation\n",
    "\n",
    "This notebook breaks down the flow for one single iteration of the 5-outer, 3-inner Nested Cross-Validation (nCV) process, given our full dataset D (512 samples, already pre-processed appropriately for the pipeline, e.g., target encoded, but without imputation or scaling applied yet, as those happen inside the pipeline).\n",
    "\n",
    "The goal of this single nCV iteration is to get one unbiased estimate of the generalization performance for a specific algorithm type (e.g., SVM with its hyperparameter space). The entire nCV process involves repeating this 5 times (for the 5 outer folds) and then potentially repeating the whole 5-fold nCV multiple times (R=10 rounds in our case).\n",
    "\n",
    "Here's the sketch for one pass:\n",
    "\n",
    "![One interation of nCV](./nCV_sketch.png)"
   ]
  }
 ],
 "metadata": {
  "kernelspec": {
   "display_name": "ml_env",
   "language": "python",
   "name": "python3"
  },
  "language_info": {
   "name": "python",
   "version": "3.9.21"
  }
 },
 "nbformat": 4,
 "nbformat_minor": 5
}
